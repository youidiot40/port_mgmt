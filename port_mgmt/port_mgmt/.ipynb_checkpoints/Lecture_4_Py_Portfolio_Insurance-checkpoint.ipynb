{
 "cells": [
  {
   "cell_type": "markdown",
   "id": "Nb-aSDt55QYB",
   "metadata": {
    "id": "Nb-aSDt55QYB"
   },
   "source": [
    "## Portfolio Insurance\n",
    " - CAPM을 통한 다각화로는 비체계적 위험을 완화할 수 있으나 체계적 위험에 대해서는 대처할 수 없음\n",
    " - 위험자산과 안전자산 비중을 조정하여 위험을 통제하는 Portfolio Insurance를 실습"
   ]
  },
  {
   "cell_type": "markdown",
   "id": "nHkZ2fblKnkO",
   "metadata": {
    "id": "nHkZ2fblKnkO"
   },
   "source": [
    "### 프로그래밍 환경 설정\n",
    " - 데이터 라이브러리 지정\n",
    " - 한글 관련 설정 등"
   ]
  },
  {
   "cell_type": "code",
   "execution_count": null,
   "id": "3aaad194-31a8-4e8c-812e-117a42ba2c58",
   "metadata": {
    "colab": {
     "base_uri": "https://localhost:8080/"
    },
    "executionInfo": {
     "elapsed": 6708,
     "status": "ok",
     "timestamp": 1732434192056,
     "user": {
      "displayName": "Yoo SS",
      "userId": "08213156528750470815"
     },
     "user_tz": -540
    },
    "id": "3aaad194-31a8-4e8c-812e-117a42ba2c58",
    "outputId": "b6f6b209-9303-456b-b3e8-de9092f5fdca"
   },
   "outputs": [],
   "source": [
    "## 사용자 정의 모듈 업데이트시마다 자동 load\n",
    "\n",
    "%load_ext autoreload\n",
    "%autoreload 2\n",
    "\n",
    "### 공통 라이브러리 입수\n",
    "import pandas as pd\n",
    "import numpy as np\n",
    "\n",
    "import matplotlib.pyplot as plt\n",
    "from matplotlib import ticker\n",
    "import matplotlib.font_manager as fm\n",
    "\n",
    "from IPython.display import display\n",
    "\n",
    "import os\n",
    "import sys\n",
    "\n",
    "# ### 시계열 예측 라이브러리\n",
    "# from sklearn.metrics import mean_squared_error\n",
    "# from pmdarima import auto_arima\n",
    "\n",
    "### 금융 / 경제 데이터\n",
    "import yfinance as yf\n",
    "# from fredapi import Fred\n",
    "\n",
    "### 금융 / 경제 함수\n",
    "# import numpy_financial as npf\n",
    "from pyxirr import xirr\n",
    "\n",
    "### 통계함수\n",
    "from scipy.stats import norm\n",
    "from scipy.stats import jarque_bera\n",
    "from scipy.optimize import minimize\n",
    "# from scipy.optimize import newton\n",
    "# from numpy.linalg import inv\n",
    "\n",
    "# 한글 폰트 설정\n",
    "font_path = 'C:/Windows/Fonts/malgun.ttf'\n",
    "font_prop = fm.FontProperties(fname=font_path)\n",
    "plt.rcParams['font.family'] = font_prop.get_name()\n",
    "plt.rcParams['axes.unicode_minus'] = False\n",
    "\n",
    "### 인터넷 접속 라이브러리 (한국은행,통계청)\n",
    "import requests\n",
    "\n",
    "### 그래프 셋팅 (runtime configuration parameters (rcParams))\n",
    "# plt.rcParams['font.family'] ='Malgun Gothic'  # 한글 깨짐 방지\n",
    "# plt.rcParams['axes.unicode_minus'] = False    # 마이너스 부호 깨짐 방지\n",
    "plt.style.use('ggplot')                       # 그래프 스타일\n",
    "\n",
    "### 사용자 정의 모듈 import\n",
    "import PM_Tool_Kit_2025 as pk"
   ]
  },
  {
   "cell_type": "markdown",
   "id": "bvP83ZkzrPnY",
   "metadata": {
    "id": "bvP83ZkzrPnY"
   },
   "source": [
    "### CPPI(TPPI) 계산 함수 작성"
   ]
  },
  {
   "cell_type": "code",
   "execution_count": null,
   "id": "KTU6b95fE5fu",
   "metadata": {
    "executionInfo": {
     "elapsed": 306,
     "status": "ok",
     "timestamp": 1732434196117,
     "user": {
      "displayName": "Yoo SS",
      "userId": "08213156528750470815"
     },
     "user_tz": -540
    },
    "id": "KTU6b95fE5fu"
   },
   "outputs": [],
   "source": [
    "### CPPI 실행을 위한 함수 작성\n",
    "\n",
    "def pf_insurance(rtn,freq,init_value,multiplier,rf,max_loss_ratio,type = 'CPPI'):\n",
    "\n",
    "  # CPPI 백테스팅 결과 저장용 데이터프레임\n",
    "  cppi_bt = pd.DataFrame(columns=['rtn_risky','rtn_safe','floor_value', 'cushion', 'risky_wgt', 'safe_wgt',\n",
    "                                  'risky_value', 'safe_value', 'pf_value'], index=rtn.index)\n",
    "\n",
    "  # 수익률 행렬에 무위험 수익률 추가\n",
    "  rtn_ = rtn\n",
    "  rtn_.columns = ['risky_asset']\n",
    "  if freq == 'D':\n",
    "    rtn_['safe_asset'] = rf / 252\n",
    "  if freq == 'W':\n",
    "    rtn_['safe_asset'] = rf / 52\n",
    "  if freq == 'M':\n",
    "    rtn_['safe_asset'] = rf / 12\n",
    "\n",
    "  # 최소 보장 가치\n",
    "  floor_value = init_value * (1 - max_loss_ratio)\n",
    "\n",
    "  # TPPI 초기치\n",
    "  peak = init_value\n",
    "\n",
    "  # CPPI 전략 계산\n",
    "  for i, date in enumerate(rtn.index):\n",
    "\n",
    "      if i == 0:\n",
    "          # 초기값 설정\n",
    "          pf_value = init_value\n",
    "      else:\n",
    "          pf_value = cppi_bt.iloc[i-1]['pf_value']  # 이전 포트폴리오 가치\n",
    "\n",
    "      # 위험자산과 안전자산 수익률\n",
    "      rtn_risky = rtn_.loc[date, 'risky_asset']\n",
    "      rtn_safe = rtn_.loc[date, 'safe_asset']\n",
    "\n",
    "      # 쿠션 계산\n",
    "      cushion = (pf_value - floor_value) / pf_value\n",
    "      risky_wgt = multiplier * cushion\n",
    "      risky_wgt = min(max(risky_wgt, 0), 1)  # 위험 자산 비중을 0~1 사이로 제한\n",
    "      safe_wgt = 1 - risky_wgt\n",
    "\n",
    "      # 위험 및 안전 자산 가치 계산\n",
    "      risky_value = pf_value * risky_wgt * (1 + rtn_risky)\n",
    "      safe_value = pf_value * safe_wgt * (1 + rtn_safe)\n",
    "      new_pf_value = risky_value + safe_value\n",
    "\n",
    "      if type == 'TPPI':\n",
    "        # TPPI : 과거 최대치의 x% 이상을 보전하도록 설계\n",
    "        peak = np.maximum(peak, new_pf_value)\n",
    "        floor_value = peak*(1-max_loss_ratio)\n",
    "\n",
    "      # 결과 저장\n",
    "      cppi_bt.loc[date] = [rtn_risky,rtn_safe,floor_value, cushion, risky_wgt, safe_wgt, risky_value, safe_value, new_pf_value]\n",
    "\n",
    "  return cppi_bt"
   ]
  },
  {
   "cell_type": "markdown",
   "id": "vAcqZYiPbIxi",
   "metadata": {
    "id": "vAcqZYiPbIxi"
   },
   "source": [
    "### 위험자산 수익률 데이터 및 파라메터 셋팅"
   ]
  },
  {
   "cell_type": "code",
   "execution_count": null,
   "id": "MzTY_hIorXR3",
   "metadata": {
    "colab": {
     "base_uri": "https://localhost:8080/"
    },
    "executionInfo": {
     "elapsed": 1237,
     "status": "ok",
     "timestamp": 1732434201324,
     "user": {
      "displayName": "Yoo SS",
      "userId": "08213156528750470815"
     },
     "user_tz": -540
    },
    "id": "MzTY_hIorXR3",
    "outputId": "c686292a-b967-49c7-c782-8581e605d593"
   },
   "outputs": [],
   "source": [
    "stdt = '2000-01-01'\n",
    "ltdt = '2024-12-31'\n",
    "\n",
    "stk_data = yf.download(['^GSPC'],\n",
    "                       start=stdt,\n",
    "                       end=ltdt,\n",
    "                       auto_adjust = False)\n",
    "\n",
    "stk_data = stk_data.tz_localize(None)['Adj Close']\n",
    "stk_data.columns = ['SP500']\n",
    "rtn_w = pk.get_return(stk_data,freq = 'W')\n",
    "\n",
    "### CPPI 전략 파라메터\n",
    "\n",
    "init_value = 100000    # 초기 자산\n",
    "multiplier = 4        # 승수, 위험 자산에 대한 민감도를 조절\n",
    "rf = 0.05 # 무위험 수익률\n",
    "max_loss_ratio = 0.1  # 최대손실률\n",
    "\n",
    "### 수익률 시계열\n",
    "rtn = pd.DataFrame(rtn_w['SP500'])\n"
   ]
  },
  {
   "cell_type": "code",
   "execution_count": null,
   "id": "c3xsx4WLrV5x",
   "metadata": {
    "executionInfo": {
     "elapsed": 436,
     "status": "ok",
     "timestamp": 1732434215643,
     "user": {
      "displayName": "Yoo SS",
      "userId": "08213156528750470815"
     },
     "user_tz": -540
    },
    "id": "c3xsx4WLrV5x"
   },
   "outputs": [],
   "source": [
    "### 실행\n",
    "\n",
    "cppi_result = pf_insurance(rtn = rtn,\n",
    "                           freq = 'W',\n",
    "                           init_value = 100000,\n",
    "                           multiplier = 4,\n",
    "                           rf = 0.05,\n",
    "                           max_loss_ratio = 0.1,\n",
    "                           type = 'CPPI')\n"
   ]
  },
  {
   "cell_type": "code",
   "execution_count": null,
   "id": "evzbgwBQ6N24",
   "metadata": {
    "id": "evzbgwBQ6N24"
   },
   "outputs": [],
   "source": [
    "### 함수를 직접 코딩\n"
   ]
  },
  {
   "cell_type": "markdown",
   "id": "OxqtmPJgISOJ",
   "metadata": {
    "id": "OxqtmPJgISOJ"
   },
   "source": [
    "### 실행결과"
   ]
  },
  {
   "cell_type": "code",
   "execution_count": null,
   "id": "4Tzd7HSh3dyk",
   "metadata": {
    "colab": {
     "base_uri": "https://localhost:8080/",
     "height": 931
    },
    "executionInfo": {
     "elapsed": 1284,
     "status": "ok",
     "timestamp": 1732434219596,
     "user": {
      "displayName": "Yoo SS",
      "userId": "08213156528750470815"
     },
     "user_tz": -540
    },
    "id": "4Tzd7HSh3dyk",
    "outputId": "3f1df689-9144-4c92-d4ad-0217910d50ff"
   },
   "outputs": [],
   "source": [
    "### 그래프\n",
    "\n",
    "cppi_result['pf_value'].plot(label = 'CPPI')\n",
    "risky_value = init_value * (1+cppi_result['rtn_risky']).cumprod()\n",
    "risky_value.plot(label = 'SP500')\n",
    "plt.legend()\n",
    "plt.title('성과 비교')\n",
    "plt.show()\n",
    "\n",
    "cppi_result['risky_wgt'].plot(label = 'Risky Asset Weight')\n",
    "plt.legend()\n",
    "plt.title('위험자산 비중 추이')\n",
    "plt.show()\n"
   ]
  },
  {
   "cell_type": "code",
   "execution_count": null,
   "id": "FSWJRtwyJHDd",
   "metadata": {
    "colab": {
     "base_uri": "https://localhost:8080/",
     "height": 610
    },
    "executionInfo": {
     "elapsed": 594,
     "status": "ok",
     "timestamp": 1732434152776,
     "user": {
      "displayName": "Yoo SS",
      "userId": "08213156528750470815"
     },
     "user_tz": -540
    },
    "id": "FSWJRtwyJHDd",
    "outputId": "2313b2ec-7c0b-4c11-dee5-d6befd004b0a"
   },
   "outputs": [],
   "source": [
    "display(pk.fs_desc(cppi_result['pf_value'],'W',rf = 0.03))\n",
    "display(pk.fs_desc(risky_value,'W',rf = 0.03))"
   ]
  },
  {
   "cell_type": "markdown",
   "id": "pzkKr-jzI1Hw",
   "metadata": {
    "id": "pzkKr-jzI1Hw"
   },
   "source": [
    "### KOSPI에 적용시"
   ]
  },
  {
   "cell_type": "code",
   "execution_count": null,
   "id": "V8TBO1yi2YX1",
   "metadata": {
    "colab": {
     "base_uri": "https://localhost:8080/"
    },
    "executionInfo": {
     "elapsed": 866,
     "status": "ok",
     "timestamp": 1732417959316,
     "user": {
      "displayName": "Yoo SS",
      "userId": "08213156528750470815"
     },
     "user_tz": -540
    },
    "id": "V8TBO1yi2YX1",
    "outputId": "fb6bb425-19fe-414c-de2e-38270b2c693a"
   },
   "outputs": [],
   "source": [
    "stk_data = yf.download(['^KS11'],\n",
    "                       start=stdt,\n",
    "                       end=ltdt,\n",
    "                       auto_adjust = False)  # Yahoo finance는 end시점 전일까지의 데이터를 가져오기 떄문에 하루를 더해 줌\n",
    "\n",
    "stk_data = stk_data.tz_localize(None)['Adj Close']\n",
    "stk_data.columns = ['KOSPI']\n",
    "rtn_w = pk.get_return(stk_data,freq = 'W')\n",
    "\n",
    "### CPPI 전략 파라메터\n",
    "\n",
    "init_value = 100000    # 초기 자산\n",
    "multiplier = 4        # 승수, 위험 자산에 대한 민감도를 조절\n",
    "rf = 0.05 # 무위험 수익률\n",
    "max_loss_ratio = 0.1  # 최대손실률\n",
    "\n",
    "### 수익률 시계열\n",
    "rtn = pd.DataFrame(rtn_w['KOSPI'].loc['2013':])\n",
    "\n",
    "cppi_result = pf_insurance(rtn = rtn,\n",
    "                           freq = 'W',\n",
    "                           init_value = 100000,\n",
    "                           multiplier = 4,\n",
    "                           rf = 0.05,\n",
    "                           max_loss_ratio = 0.1,\n",
    "                           type = 'TPPI')\n"
   ]
  },
  {
   "cell_type": "markdown",
   "id": "IK8mJO8n8kxn",
   "metadata": {
    "id": "IK8mJO8n8kxn"
   },
   "source": [
    "### 실행결과"
   ]
  },
  {
   "cell_type": "code",
   "execution_count": null,
   "id": "seFULf5K8sHb",
   "metadata": {
    "colab": {
     "base_uri": "https://localhost:8080/",
     "height": 883
    },
    "executionInfo": {
     "elapsed": 1352,
     "status": "ok",
     "timestamp": 1732417964189,
     "user": {
      "displayName": "Yoo SS",
      "userId": "08213156528750470815"
     },
     "user_tz": -540
    },
    "id": "seFULf5K8sHb",
    "outputId": "ceeee478-b7dd-413a-d04b-89b3fc2598d6"
   },
   "outputs": [],
   "source": [
    "cppi_result['pf_value'].plot(label = 'TPPI')\n",
    "risky_value = init_value * (1+cppi_result['rtn_risky']).cumprod()\n",
    "risky_value.plot(label = 'KOSPI')\n",
    "plt.legend()\n",
    "plt.show()\n",
    "\n",
    "cppi_result['risky_wgt'].plot(label = 'Risky Asset Weight')\n",
    "plt.legend()\n",
    "plt.show()"
   ]
  },
  {
   "cell_type": "code",
   "execution_count": null,
   "id": "B61NUN0iEOKf",
   "metadata": {
    "colab": {
     "base_uri": "https://localhost:8080/",
     "height": 610
    },
    "executionInfo": {
     "elapsed": 854,
     "status": "ok",
     "timestamp": 1732417976349,
     "user": {
      "displayName": "Yoo SS",
      "userId": "08213156528750470815"
     },
     "user_tz": -540
    },
    "id": "B61NUN0iEOKf",
    "outputId": "c197cefd-71ea-4dcc-b582-3994bb61b5e2"
   },
   "outputs": [],
   "source": [
    "display(pk.fs_desc(cppi_result['pf_value'],'W',rf = 0.05))\n",
    "display(pk.fs_desc(risky_value,'W',rf = 0.05))"
   ]
  },
  {
   "cell_type": "markdown",
   "id": "uTrg617Qb8gL",
   "metadata": {
    "id": "uTrg617Qb8gL"
   },
   "source": [
    "### 풋옵션 매수 헷징 (Protective Put)"
   ]
  },
  {
   "cell_type": "code",
   "execution_count": null,
   "id": "AlRE8K3fcxoj",
   "metadata": {
    "colab": {
     "base_uri": "https://localhost:8080/",
     "height": 450
    },
    "executionInfo": {
     "elapsed": 998,
     "status": "ok",
     "timestamp": 1732418517047,
     "user": {
      "displayName": "Yoo SS",
      "userId": "08213156528750470815"
     },
     "user_tz": -540
    },
    "id": "AlRE8K3fcxoj",
    "outputId": "8675dd38-48c6-453a-c105-741f228791ae"
   },
   "outputs": [],
   "source": [
    "### 풋옵션 손익 예제\n",
    "\n",
    "df_test = pd.DataFrame(columns=['Stock_Price', 'Stock_PL','Option_PL'])\n",
    "df_test['Stock_Price'] = range(0,201)\n",
    "\n",
    "Put_Price = 10\n",
    "Put_Strike_Price = 100\n",
    "Stock_Current_Price = 100\n",
    "\n",
    "df_test['Stock_PL'] = df_test['Stock_Price'] - Stock_Current_Price\n",
    "df_test['Put_Buy_PL'] = df_test['Stock_Price'].apply(lambda x: (Put_Strike_Price - Put_Price) - x if x<= Put_Strike_Price else -Put_Price )\n",
    "df_test['Pf_PL'] = df_test['Stock_PL'] + df_test['Put_Buy_PL']\n",
    "\n",
    "plt.plot(df_test['Stock_Price'], df_test['Stock_PL'], label='Stock_PL',linewidth = 1)\n",
    "plt.plot(df_test['Stock_Price'], df_test['Put_Buy_PL'], label='Put_Option_PL',linewidth = 1)\n",
    "plt.plot(df_test['Stock_Price'], df_test['Pf_PL'], label='Portfoliio_PL',linewidth = 3)\n",
    "plt.legend()\n",
    "plt.axvline(x=Put_Strike_Price, color='r', linestyle='--', label='Strike Price', linewidth=0.5)\n",
    "plt.axhline(y=0, color='r', linestyle='--', label='Zero Line', linewidth=0.5)\n",
    "plt.xlabel('Stock Price')\n",
    "plt.show()"
   ]
  },
  {
   "cell_type": "code",
   "execution_count": null,
   "id": "POKrZNRZEEBN",
   "metadata": {
    "colab": {
     "base_uri": "https://localhost:8080/"
    },
    "executionInfo": {
     "elapsed": 290,
     "status": "ok",
     "timestamp": 1732434905322,
     "user": {
      "displayName": "Yoo SS",
      "userId": "08213156528750470815"
     },
     "user_tz": -540
    },
    "id": "POKrZNRZEEBN",
    "outputId": "19f6ea80-d340-4319-c5c9-14a77bc29b58"
   },
   "outputs": [],
   "source": [
    "### 헷지 비용? 풋옵션 가격을 산출하고 이를 투자의 기대수익과 비교\n",
    "\n",
    "### 옵션가격 산출\n",
    "\n",
    "# d1 계산\n",
    "def calculate_d1(S, K, r, sigma, T):\n",
    "    \"\"\"Calculate d1 in the Black-Scholes model.\"\"\"\n",
    "    return (np.log(S / K) + (r + 0.5 * sigma**2) * T) / (sigma * np.sqrt(T))\n",
    "\n",
    "# d2 계산\n",
    "def calculate_d2(d1, sigma, T):\n",
    "    \"\"\"Calculate d2 in the Black-Scholes model.\"\"\"\n",
    "    return d1 - sigma * np.sqrt(T)\n",
    "\n",
    "# 옵션가격 산출\n",
    "def black_scholes_price(S, K, r, sigma, T, option_type=\"call\"):\n",
    "    \"\"\"\n",
    "    Calculate the price of a European call or put option using the Black-Scholes formula.\n",
    "\n",
    "    Parameters:\n",
    "        S (float): Current stock price.\n",
    "        K (float): Strike price.\n",
    "        r (float): Risk-free interest rate (as a decimal).\n",
    "        sigma (float): Volatility of the stock price (as a decimal).\n",
    "        T (float): Time to maturity (in years).\n",
    "        option_type (str): \"call\" for call option, \"put\" for put option.\n",
    "\n",
    "    Returns:\n",
    "        float: The price of the option.\n",
    "    \"\"\"\n",
    "    d1 = calculate_d1(S, K, r, sigma, T)\n",
    "    d2 = calculate_d2(d1, sigma, T)\n",
    "\n",
    "    if option_type == \"call\":\n",
    "        price = S * norm.cdf(d1) - K * np.exp(-r * T) * norm.cdf(d2)\n",
    "    elif option_type == \"put\":\n",
    "        price = K * np.exp(-r * T) * norm.cdf(-d2) - S * norm.cdf(-d1)\n",
    "    else:\n",
    "        raise ValueError(\"Invalid option type. Choose 'call' or 'put'.\")\n",
    "\n",
    "    return price\n",
    "\n",
    "# Parameters\n",
    "S = 100  # Current stock price\n",
    "K = 100  # Strike price\n",
    "r = 0.03  # Risk-free interest rate (3%)\n",
    "sigma = 0.2  # Volatility (20%)\n",
    "T = 1  # Time to maturity (1 year)\n",
    "\n",
    "# 풋옵션 가격\n",
    "put_price = black_scholes_price(S, K, r, sigma, T, option_type=\"put\")\n",
    "\n",
    "# 결과 출력\n",
    "print(f\"Put Option Price: {put_price:.2f}\\n\")\n",
    "\n",
    "# 1년후 포트폴리오의 기대값\n",
    "# (Sharpe = 0.5가정)\n",
    "sharpe = 0.3\n",
    "init_value = 1000\n",
    "invested_value = (1 - put_price / S) * init_value\n",
    "\n",
    "er = sharpe * sigma + r\n",
    "er_lb = er - sigma\n",
    "er_ub = er + sigma\n",
    "\n",
    "final_value = invested_value * (1 + er)\n",
    "final_value_ub = invested_value * (1 + er_ub)\n",
    "final_value_lb = invested_value * (1 + er_lb)\n",
    "\n",
    "print(f'Expected Return : {er:.2f}')\n",
    "print(f'Lower Bound : {er_lb:.2f}')\n",
    "print(f'Upper Bound : {er_ub:.2f}\\n')\n",
    "\n",
    "print(f'final value : {final_value:.1f}')\n",
    "print(f'Lower Bound : {final_value_lb:.1f}')\n",
    "print(f'Upper Bound : {final_value_ub:.1f}')"
   ]
  },
  {
   "cell_type": "code",
   "execution_count": null,
   "id": "n_cBr4zCciuo",
   "metadata": {
    "id": "n_cBr4zCciuo"
   },
   "outputs": [],
   "source": []
  },
  {
   "cell_type": "markdown",
   "id": "_nfWFM3ULwE6",
   "metadata": {
    "id": "_nfWFM3ULwE6"
   },
   "source": [
    "### 델타헷징\n",
    "- 옵션 등 비선형 위험 관리에 주로 적용\n",
    "- 기초자산의 매매를 통해 옵션의 수익구조 복제 가능"
   ]
  },
  {
   "cell_type": "code",
   "execution_count": null,
   "id": "8kawYEB0TjFt",
   "metadata": {
    "colab": {
     "base_uri": "https://localhost:8080/",
     "height": 1000
    },
    "executionInfo": {
     "elapsed": 1103,
     "status": "ok",
     "timestamp": 1732440616443,
     "user": {
      "displayName": "Yoo SS",
      "userId": "08213156528750470815"
     },
     "user_tz": -540
    },
    "id": "8kawYEB0TjFt",
    "outputId": "a0c79d9d-284d-4cb7-add6-f1b71102366f"
   },
   "outputs": [],
   "source": [
    "# Parameter 정의\n",
    "S0 = 100  # 기초 주식가격\n",
    "K = 100  # 행사가격\n",
    "r = 0.03  # Risk-free interest rate\n",
    "sigma = 0.2  # Volatility\n",
    "T = 1  # Time to maturity (in years)\n",
    "n_steps = 252  # 일별 헷징\n",
    "\n",
    "# Time step\n",
    "dt = T / n_steps\n",
    "\n",
    "# 주가 시뮬레이션 (GBM)\n",
    "np.random.seed(20)\n",
    "stock_prices = [S0]\n",
    "for _ in range(n_steps):\n",
    "    Z = np.random.normal(0, 1)\n",
    "    S_next = stock_prices[-1] * np.exp((r - 0.5 * sigma**2) * dt + sigma * np.sqrt(dt) * Z)\n",
    "    stock_prices.append(S_next)\n",
    "\n",
    "# 블랙숄즈 모형 산출 함수\n",
    "def calculate_d1(S, K, r, sigma, T):\n",
    "    return (np.log(S / K) + (r + 0.5 * sigma**2) * T) / (sigma * np.sqrt(T))\n",
    "\n",
    "def calculate_d2(d1, sigma, T):\n",
    "    return d1 - sigma * np.sqrt(T)\n",
    "\n",
    "def calculate_call_delta(S, K, r, sigma, T):\n",
    "    d1 = calculate_d1(S, K, r, sigma, T)\n",
    "    return norm.cdf(d1)\n",
    "\n",
    "# 델타헷징 시뮬레이션 (콜옵션 복제)\n",
    "cash = 0  # 초기 Cash 포지션은 0. 주식은 차입으로 매수\n",
    "stock_quantity = 0  # 초기 주식 수량\n",
    "portfolio_values = []  # 주식 + 현금의 가치 (콜옵션 복제 포트폴리오)\n",
    "cash_position = []  # 차입현금\n",
    "stock_position = []  # 주식매입주수\n",
    "call_option_prices = []  # 옵션 이론가\n",
    "\n",
    "\n",
    "for i, S in enumerate(stock_prices):\n",
    "    T_remaining = T - i * dt\n",
    "    if T_remaining <= 0:\n",
    "        break\n",
    "\n",
    "    # 콜옵션 델타\n",
    "    call_delta = calculate_call_delta(S, K, r, sigma, T_remaining)\n",
    "\n",
    "    # 델타의 증감에 따른 주식의 매입 / 매도\n",
    "    target_stock_quantity = call_delta  # 델타 계산하여 필요한 주식 수량 산출\n",
    "    cash += (stock_quantity - target_stock_quantity) * S  # Cash 포지션 조정\n",
    "    stock_quantity = target_stock_quantity  # 주식 포지션 조정\n",
    "\n",
    "    # Portfolio value 산출\n",
    "    portfolio_value = cash + stock_quantity * S\n",
    "    cash_position.append(cash)\n",
    "    stock_position.append(stock_quantity)\n",
    "    portfolio_values.append(portfolio_value)\n",
    "\n",
    "    # 옵션 이론가 산출\n",
    "    call_option_prices.append(S * norm.cdf(calculate_d1(S, K, r, sigma, T_remaining)) -\n",
    "                              K * np.exp(-r * T_remaining) * norm.cdf(calculate_d2(calculate_d1(S, K, r, sigma, T_remaining), sigma, T_remaining)))\n",
    "\n",
    "# 결과 저장\n",
    "df = pd.DataFrame({\n",
    "    \"Time\": np.linspace(0, T, len(portfolio_values)),\n",
    "    \"Stock Price\": stock_prices[:len(portfolio_values)],\n",
    "    \"Portfolio Value\": portfolio_values,\n",
    "    \"Cash Position\": cash_position,\n",
    "    \"Stock Position\": stock_position,\n",
    "    \"Call Option Price\": call_option_prices\n",
    "})\n",
    "\n",
    "display(df)\n",
    "\n",
    "# 그래프\n",
    "\n",
    "plt.figure(figsize=(12, 8))\n",
    "plt.plot(df[\"Time\"], df[\"Portfolio Value\"], label=\"Replicated Portfolio Value\", linewidth=2)\n",
    "plt.plot(df[\"Time\"], df[\"Call Option Price\"], label=\"Theoretical Call Option Price\", linestyle=\"--\", linewidth=2)\n",
    "plt.title(\"Call Option Replication via Stock Trading\", fontsize=14)\n",
    "plt.xlabel(\"Time (Years)\", fontsize=12)\n",
    "plt.ylabel(\"Value\", fontsize=12)\n",
    "plt.legend(fontsize=12)\n",
    "plt.grid(alpha=0.3)\n",
    "plt.show()\n"
   ]
  },
  {
   "cell_type": "markdown",
   "id": "ca11661f-f894-4c32-987c-d8fcbac8543e",
   "metadata": {
    "id": "aqaVe8BAUjO1"
   },
   "source": [
    "### 수고하셨습니다"
   ]
  }
 ],
 "metadata": {
  "colab": {
   "provenance": [
    {
     "file_id": "12OYHtfmRR9DsBuFDFBTytYPmaw3ExQww",
     "timestamp": 1731154385056
    },
    {
     "file_id": "1w5fyKoX7oxzsxihaWyzOxXkM3VXvwLuL",
     "timestamp": 1730101878639
    }
   ]
  },
  "kernelspec": {
   "display_name": "Python(Py_Port_Mgmt)",
   "language": "python",
   "name": "py_port_mgmt"
  },
  "language_info": {
   "codemirror_mode": {
    "name": "ipython",
    "version": 3
   },
   "file_extension": ".py",
   "mimetype": "text/x-python",
   "name": "python",
   "nbconvert_exporter": "python",
   "pygments_lexer": "ipython3",
   "version": "3.10.16"
  }
 },
 "nbformat": 4,
 "nbformat_minor": 5
}
